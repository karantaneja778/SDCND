{
 "cells": [
  {
   "cell_type": "markdown",
   "metadata": {},
   "source": [
    "Color Selection Code"
   ]
  },
  {
   "cell_type": "code",
   "execution_count": 9,
   "metadata": {},
   "outputs": [],
   "source": [
    "# Do all the necessary imports\n",
    "import matplotlib.pyplot as plt\n",
    "import matplotlib.image as mpimg\n",
    "import numpy as np"
   ]
  },
  {
   "cell_type": "code",
   "execution_count": 10,
   "metadata": {},
   "outputs": [
    {
     "name": "stdout",
     "output_type": "stream",
     "text": [
      "This image is  <class 'numpy.ndarray'>  with dimensions  (381, 685, 3)\n"
     ]
    }
   ],
   "source": [
    "# Read in the image and print out the stats\n",
    "image = mpimg.imread('image.jpg')\n",
    "print('This image is ', type(image), ' with dimensions ', image.shape)"
   ]
  },
  {
   "cell_type": "code",
   "execution_count": 23,
   "metadata": {},
   "outputs": [],
   "source": [
    "# Define our color selection criteria\n",
    "\n",
    "red_threshold = 200\n",
    "green_threshold = 200\n",
    "blue_threshold = 200\n",
    "rgb_threshold = [red_threshold, green_threshold, blue_threshold]\n"
   ]
  },
  {
   "cell_type": "code",
   "execution_count": 24,
   "metadata": {},
   "outputs": [],
   "source": [
    "# copy original image\n",
    "color_select = np.copy(image)"
   ]
  },
  {
   "cell_type": "code",
   "execution_count": 25,
   "metadata": {},
   "outputs": [
    {
     "data": {
      "image/png": "[encoded data removed]",
      "text/plain": [
       "<Figure size 432x288 with 1 Axes>"
      ]
     },
     "metadata": {},
     "output_type": "display_data"
    }
   ],
   "source": [
    "# Identify pixels below the threshold\n",
    "thresholds = (image[:,:,0] < rgb_threshold[0]) \\\n",
    "            |(image[:,:,1] < rgb_threshold[1]) \\\n",
    "            |(image[:,:,2] < rgb_threshold[2])\n",
    "        \n",
    "color_select[thresholds] = [0,0,0]\n",
    "\n",
    "# Display the image\n",
    "plt.imshow(color_select)\n",
    "plt.show()"
   ]
  },
  {
   "cell_type": "code",
   "execution_count": null,
   "metadata": {},
   "outputs": [],
   "source": []
  }
 ],
 "metadata": {
  "kernelspec": {
   "display_name": "Python 3",
   "language": "python",
   "name": "python3"
  },
  "language_info": {
   "codemirror_mode": {
    "name": "ipython",
    "version": 3
   },
   "file_extension": ".py",
   "mimetype": "text/x-python",
   "name": "python",
   "nbconvert_exporter": "python",
   "pygments_lexer": "ipython3",
   "version": "3.6.4"
  }
 },
 "nbformat": 4,
 "nbformat_minor": 2
}
